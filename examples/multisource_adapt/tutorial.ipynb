{
 "cells": [
  {
   "cell_type": "markdown",
   "id": "9bf214b3",
   "metadata": {},
   "source": [
    "# PyKale Tutorial: Multi-Source Domain Adaptation on Office-Caltech Data with Lightning\n",
    "\n",
    "<!-- | [Open in Colab](https://colab.research.google.com/github/pykale/pykale/blob/multi-source-example/examples/multisource_adapt/tutorial.ipynb) (click `Runtime` → `Run all (Ctrl+F9)` | [Launch Binder](https://mybinder.org/v2/gh/pykale/pykale/HEAD?filepath=examples%2Fdigits_dann_lightn%2Ftutorial.ipynb) (click `Run` → `Run All Cells`) | -->\n",
    "\n",
    "| [Open in Colab](https://colab.research.google.com/github/pykale/pykale/blob/main/examples/digits_dann_lightn/tutorial.ipynb) (click `Runtime` → `Run all (Ctrl+F9)` | [Launch Binder](https://mybinder.org/v2/gh/pykale/pykale/HEAD?filepath=examples%2Fdigits_dann_lightn%2Ftutorial.ipynb) (click `Run` → `Run All Cells`) |\n",
    "\n",
    "If using [Google Colab](https://colab.research.google.com), a free GPU can be enabled to save time via setting `Runtime` → `Change runtime type` → `Hardware accelerator: GPU`\n",
    "\n",
    "## Introduction\n",
    "\n",
    "[Domain Adaptation](https://en.wikipedia.org/wiki/Domain_adaptation) takes a model trained and evaluated on one set of data (the source) and adapts it to another (the target). In this tutorial, a model is trained on one digits dataset (source) and adapted to another (target). This tutorial is constructed based on the `digits_dann_lightn` example `main.py`, which is in turn refactored from the [ADA: (Yet) Another Domain Adaptation library](https://github.com/criteo-research/pytorch-ada). It has been put together to run interactively on online hosting platforms including [Google Colab](https://colab.research.google.com) or [myBinder](https://mybinder.org), but can also be downloaded and run locally. Follow the [PyKale installation instructions](https://pykale.readthedocs.io/en/latest/installation.html) for this."
   ]
  },
  {
   "cell_type": "markdown",
   "id": "5e68b46c",
   "metadata": {},
   "source": [
    "## Setup\n",
    "\n",
    "The first few blocks of code are necessary to set up the notebook execution environment and import the required modules, including PyKale.\n",
    "\n",
    "This checks if the notebook is running on Google Colab and installs required packages."
   ]
  },
  {
   "cell_type": "code",
   "execution_count": null,
   "id": "04bf1b78",
   "metadata": {},
   "outputs": [],
   "source": [
    "if 'google.colab' in str(get_ipython()):\n",
    "    print('Running on CoLab')\n",
    "    !pip uninstall --yes imgaug && pip uninstall --yes albumentations && pip install git+https://github.com/aleju/imgaug.git\n",
    "#     !pip install git+https://github.com/pykale/pykale.git\n",
    "\n",
    "#     !git clone https://github.com/pykale/pykale.git\n",
    "\n",
    "    !pip install git+https://github.com/pykale/pykale.git@multi-source-example\n",
    "        \n",
    "    !git clone -b multi-source-example https://github.com/pykale/pykale.git\n",
    "    \n",
    "    %cd pykale/examples/multisource_adapt\n",
    "else:\n",
    "    print('Not running on CoLab')"
   ]
  },
  {
   "cell_type": "markdown",
   "id": "07377b03",
   "metadata": {},
   "source": [
    "This imports required modules."
   ]
  },
  {
   "cell_type": "code",
   "execution_count": null,
   "id": "749edf40",
   "metadata": {},
   "outputs": [],
   "source": [
    "import argparse\n",
    "import logging\n",
    "import os\n",
    "import sys\n",
    "\n",
    "import pytorch_lightning as pl\n",
    "\n",
    "from config import get_cfg_defaults\n",
    "from model import get_model\n",
    "from torchvision import transforms\n",
    "from pytorch_lightning.callbacks import ModelCheckpoint\n",
    "from pytorch_lightning.loggers import TensorBoardLogger\n",
    "import torch\n",
    "\n",
    "from kale.loaddata.image_access import MultiDomainImageAccess\n",
    "from kale.loaddata.multi_domain import MultiDomainAdapDataset\n",
    "from kale.utils.seed import set_seed"
   ]
  },
  {
   "cell_type": "markdown",
   "id": "40038ef7",
   "metadata": {},
   "source": [
    "## Configuration\n",
    "\n",
    "In this tutorial we modify the [default configuration for domain adaptation problems](https://github.com/pykale/pykale/blob/main/examples/digits_dann_lightn/config.py) with a customized [`.yaml` file for the specific application in this tutorial](https://github.com/pykale/pykale/blob/main/examples/digits_dann_lightn/configs/TUTORIAL.yaml). The configuration is summarized below the following cell."
   ]
  },
  {
   "cell_type": "code",
   "execution_count": null,
   "id": "81a93088",
   "metadata": {},
   "outputs": [],
   "source": [
    "cfg_path = \"./configs/tutorial.yaml\" # Path to `.yaml` config file\n",
    "\n",
    "cfg = get_cfg_defaults()\n",
    "cfg.merge_from_file(cfg_path)\n",
    "cfg.freeze()\n",
    "print(cfg)"
   ]
  },
  {
   "cell_type": "markdown",
   "id": "781a1c3a",
   "metadata": {},
   "source": [
    "## Check if a GPU is available\n",
    "\n",
    "If a CUDA GPU is available, this should be used to accelerate the training process. The code below checks and reports on this."
   ]
  },
  {
   "cell_type": "code",
   "execution_count": null,
   "id": "62f5fcb6",
   "metadata": {},
   "outputs": [],
   "source": [
    "device = \"cuda\" if torch.cuda.is_available() else \"cpu\"\n",
    "print(\"Using: \" + device)\n",
    "gpus = 1 if device == \"cuda\" else None"
   ]
  },
  {
   "cell_type": "markdown",
   "id": "73fef5bf",
   "metadata": {},
   "source": [
    "## Select Datasets (Needs update)\n",
    "\n",
    "Source and target datasets are specified using `DigitDataset.get_source_target` from values in the configuration (`cfg`) above. In this tutorial, we specify a subset of classes (1, 3 and 8) to make training and testing quicker."
   ]
  },
  {
   "cell_type": "code",
   "execution_count": null,
   "id": "9a491340",
   "metadata": {},
   "outputs": [],
   "source": [
    "data_access = MultiDomainImageAccess.get_image_access(\n",
    "        cfg.DATASET.NAME.upper(), cfg.DATASET.ROOT, download=True, return_domain_label=True\n",
    "    )\n",
    "dataset = MultiDomainAdapDataset(data_access, random_state=seed)"
   ]
  },
  {
   "cell_type": "markdown",
   "id": "35969e0b",
   "metadata": {},
   "source": [
    "## Set Seed\n",
    "\n",
    "Some algorithms used in model training require generation of pseudo-random numbers. Setting the seed from which these are generated ensures reproducibility."
   ]
  },
  {
   "cell_type": "code",
   "execution_count": null,
   "id": "c8c29957",
   "metadata": {},
   "outputs": [],
   "source": [
    "seed = cfg.SOLVER.SEED\n",
    "# seed_everything in pytorch_lightning did not set torch.backends.cudnn\n",
    "set_seed(seed)"
   ]
  },
  {
   "cell_type": "markdown",
   "id": "829b0e15",
   "metadata": {},
   "source": [
    "## Setup Model\n",
    "\n",
    "Here, we use the previously defined configuration and dataset to set up the model we will subsequently train."
   ]
  },
  {
   "cell_type": "code",
   "execution_count": null,
   "id": "58b21c77",
   "metadata": {},
   "outputs": [],
   "source": [
    "num_channels = cfg.DATASET.NUM_CHANNELS\n",
    "%time model, train_params = get_model(cfg, dataset, num_channels)"
   ]
  },
  {
   "cell_type": "markdown",
   "id": "4854bc15",
   "metadata": {},
   "source": [
    "## Setup Logger\n",
    "\n",
    "A Tensorboard logger is used to store output generated during model training. This information can be used to assess the effectiveness of the training and to identify problems. The output model is stored at `cfg.OUTPUT.TB_DIR`."
   ]
  },
  {
   "cell_type": "code",
   "execution_count": null,
   "id": "19dbe35b",
   "metadata": {},
   "outputs": [],
   "source": [
    "tb_logger = TensorBoardLogger(cfg.OUTPUT.TB_DIR, name=\"seed{}\".format(seed))"
   ]
  },
  {
   "cell_type": "markdown",
   "id": "5597dcf1",
   "metadata": {},
   "source": [
    "## Setup Checkpoint\n",
    "\n",
    "A `ModelCheckpoint` is used to save the model and some quantitative measure(s) periodically."
   ]
  },
  {
   "cell_type": "code",
   "execution_count": null,
   "id": "5b72030e",
   "metadata": {},
   "outputs": [],
   "source": [
    "checkpoint_callback = ModelCheckpoint(filename=\"{epoch}-{step}-{val_loss:.4f}\", monitor=\"val_loss\", mode=\"min\",)"
   ]
  },
  {
   "cell_type": "markdown",
   "id": "a9bf4272",
   "metadata": {},
   "source": [
    "## Setup Trainer\n",
    "\n",
    "A trainer object is used to determine and store model parameters. Here, one is configured with information on how a model should be trained, and what hardware will be used."
   ]
  },
  {
   "cell_type": "code",
   "execution_count": null,
   "id": "f0d06f71",
   "metadata": {},
   "outputs": [],
   "source": [
    "trainer = pl.Trainer(\n",
    "            progress_bar_refresh_rate=cfg.OUTPUT.PB_FRESH,  # in steps\n",
    "            min_epochs=cfg.SOLVER.MIN_EPOCHS,\n",
    "            max_epochs=cfg.SOLVER.MAX_EPOCHS,\n",
    "            callbacks=[checkpoint_callback],\n",
    "            gpus=gpus,\n",
    "            auto_select_gpus=True,\n",
    "            logger=tb_logger,  # logger,\n",
    "            # weights_summary='full',\n",
    "            fast_dev_run=False,  # True,\n",
    "        )"
   ]
  },
  {
   "cell_type": "markdown",
   "id": "912d7cf4",
   "metadata": {},
   "source": [
    "Output reports on available GPU and TPU resources."
   ]
  },
  {
   "cell_type": "markdown",
   "id": "13179cc9",
   "metadata": {},
   "source": [
    "## Train Model\n",
    "\n",
    "Optimize model parameters using the trainer."
   ]
  },
  {
   "cell_type": "code",
   "execution_count": null,
   "id": "2d6e3d51",
   "metadata": {},
   "outputs": [],
   "source": [
    "%time trainer.fit(model)"
   ]
  },
  {
   "cell_type": "markdown",
   "id": "9369063c",
   "metadata": {},
   "source": [
    "## Test Optimized Model\n",
    "\n",
    "Check performance of model optimized with training data against test data which was not used in training."
   ]
  },
  {
   "cell_type": "code",
   "execution_count": null,
   "id": "c1cb76cc",
   "metadata": {},
   "outputs": [],
   "source": [
    "# test scores\n",
    "%time trainer.test()"
   ]
  },
  {
   "cell_type": "markdown",
   "id": "48f69bed",
   "metadata": {},
   "source": [
    "Outputs are defined as:\n",
    "\n",
    "* 'Te_domain_acc': Accuracy on classifying the domain (source or target) from which data came.\n",
    "* 'Te_source_acc': Accuracy on test data drawn from the source dataset.\n",
    "* 'Te_target_acc': Accuracy on test data drawn from the target dataset.\n",
    "* 'test_loss': Loss function value on the test data."
   ]
  }
 ],
 "metadata": {
  "kernelspec": {
   "display_name": "Python 3 (ipykernel)",
   "language": "python",
   "name": "python3"
  },
  "language_info": {
   "codemirror_mode": {
    "name": "ipython",
    "version": 3
   },
   "file_extension": ".py",
   "mimetype": "text/x-python",
   "name": "python",
   "nbconvert_exporter": "python",
   "pygments_lexer": "ipython3",
   "version": "3.8.8"
  }
 },
 "nbformat": 4,
 "nbformat_minor": 5
}
