{
 "cells": [
  {
   "cell_type": "markdown",
   "id": "7dda9ef8",
   "metadata": {},
   "source": [
    "# PyKale Tutorial: Domain Adaptation on Digits with Lightning\n",
    "\n",
    "[![Binder](https://mybinder.org/badge_logo.svg)](https://mybinder.org/v2/gh/pykale/pykale/HEAD?filepath=examples%2Fdigits_dann_lightn%2Ftutorial.ipynb) \n",
    "\n",
    "[![Open In Colab](https://colab.research.google.com/assets/colab-badge.svg)](https://colab.research.google.com/github/pykale/pykale/blob/main/examples/digits_dann_lightn/tutorial.ipynb)\n",
    "\n",
    "This tutorial is constructed based on the `digits_dann_lightn` example `main.py`, which is in turn refactored from the [ADA: (Yet) Another Domain Adaptation library](https://github.com/criteo-research/pytorch-ada).\n",
    "\n",
    "It has been put together to run interactively on online hosting platofrms including [Google Colab](https://colab.research.google.com) or [myBinder](https://mybinder.org), but can also be downloaded and run locally. Follow the [PyKale installation instructions](https://pykale.readthedocs.io/en/latest/installation.html) for this.\n",
    "\n",
    "[Domain Adaptation](https://en.wikipedia.org/wiki/Domain_adaptation) takes a model trained and evaluated on one set of data (the source) and adapts it to another (the target). In this tutorial, a model is trained on one Digits Dataset (source) and adapted to another (target)."
   ]
  },
  {
   "cell_type": "markdown",
   "id": "277595d5",
   "metadata": {},
   "source": [
    "## Setup\n",
    "\n",
    "The first few blocks of code are necessary to set up the notebook execution environment and import the required modules, including PyKale.\n",
    "\n",
    "This checks if the notebook is running on Google Colab and installs required packages."
   ]
  },
  {
   "cell_type": "code",
   "execution_count": null,
   "id": "aa5d00e1",
   "metadata": {},
   "outputs": [],
   "source": [
    "if 'google.colab' in str(get_ipython()):\n",
    "    print('Running on CoLab')\n",
    "    !pip install git+https://github.com/pykale/pykale.git#egg=pykale[extras] \n",
    "\n",
    "    !git clone https://github.com/pykale/pykale.git\n",
    "    %cd pykale/examples/digits_dann_lightn\n",
    "else:\n",
    "    print('Not running on CoLab')"
   ]
  },
  {
   "cell_type": "markdown",
   "id": "a3cff6c0",
   "metadata": {},
   "source": [
    "This imports required modules."
   ]
  },
  {
   "cell_type": "code",
   "execution_count": null,
   "id": "51b723d9",
   "metadata": {},
   "outputs": [],
   "source": [
    "import logging\n",
    "import os\n",
    "\n",
    "from config import get_cfg_defaults\n",
    "import numpy as np\n",
    "import pytorch_lightning as pl\n",
    "from torch.utils.data import DataLoader\n",
    "from torch.utils.data import SequentialSampler\n",
    "import torchvision\n",
    "\n",
    "from model import get_model\n",
    "\n",
    "from kale.loaddata.digits_access import DigitDataset\n",
    "from kale.loaddata.multi_domain import MultiDomainDatasets\n",
    "from kale.utils.csv_logger import setup_logger\n",
    "from kale.utils.seed import set_seed"
   ]
  },
  {
   "cell_type": "markdown",
   "id": "c6532d78",
   "metadata": {},
   "source": [
    "## Configuration\n",
    "\n",
    "In this tutorial we provide a [default configuration for domain adaptation problems](https://github.com/pykale/pykale/blob/main/examples/digits_dann_lightn/config.py), which is tailored using a [`.yaml` file for the specific application in this tutorial](https://github.com/pykale/pykale/blob/main/examples/digits_dann_lightn/configs/TUTORIAL.yaml).\n",
    "\n",
    "If GPUs are to be used at runtime, this is specified using a separate variable. If you are running this tutorial on Google Colab, or on a machine with GPU support, you might [set this](https://pytorch-lightning.readthedocs.io/en/stable/common/trainer.html#trainer-class-api) to make use of GPU acceleration. (On Google Colab click Runtime->Manage Sessions and select GPU, then change to `gpus = 1`).\n",
    "\n",
    "The configuration is summarized below the following cell."
   ]
  },
  {
   "cell_type": "code",
   "execution_count": null,
   "id": "8253f704",
   "metadata": {},
   "outputs": [],
   "source": [
    "cfg_path = \"./configs/tutorial.yaml\" # Path to `.yaml` config file\n",
    "gpus = None # GPU settings\n",
    "\n",
    "cfg = get_cfg_defaults()\n",
    "cfg.merge_from_file(cfg_path)\n",
    "cfg.freeze()\n",
    "print(cfg)"
   ]
  },
  {
   "cell_type": "markdown",
   "id": "759d55dc",
   "metadata": {},
   "source": [
    "## Setup Output\n",
    "\n",
    "If you are running online in myBinder ot Google Colab, you will not have easy access to files output by this tutorial. However, if you are running locally, a folder will be created to store model training output logs, which are configured below."
   ]
  },
  {
   "cell_type": "code",
   "execution_count": null,
   "id": "292a0aac",
   "metadata": {},
   "outputs": [],
   "source": [
    "os.makedirs(cfg.OUTPUT.DIR, exist_ok=True)\n",
    "format_str = \"@%(asctime)s %(name)s [%(levelname)s] - (%(message)s)\"\n",
    "logging.basicConfig(format=format_str)"
   ]
  },
  {
   "cell_type": "markdown",
   "id": "2a9d0bcd",
   "metadata": {},
   "source": [
    "## Select Datasets\n",
    "\n",
    "Source and target datasets are specified using `DigitDataset.get_source_target` from values in the configuration (`cfg`) above. In this tutorial, we specify a subset of classes (1, 3 and 8) to make training and testing quicker."
   ]
  },
  {
   "cell_type": "code",
   "execution_count": null,
   "id": "df1ae7ac",
   "metadata": {},
   "outputs": [],
   "source": [
    "source, target, num_channels = DigitDataset.get_source_target(\n",
    "    DigitDataset(cfg.DATASET.SOURCE.upper()), DigitDataset(cfg.DATASET.TARGET.upper()), cfg.DATASET.ROOT\n",
    ")\n",
    "\n",
    "class_subset = [1, 3, 8]\n",
    "\n",
    "dataset = MultiDomainDatasets(\n",
    "    source,\n",
    "    target,\n",
    "    config_weight_type=cfg.DATASET.WEIGHT_TYPE,\n",
    "    config_size_type=cfg.DATASET.SIZE_TYPE,\n",
    "    val_split_ratio=cfg.DATASET.VAL_SPLIT_RATIO,\n",
    "    class_ids=class_subset,\n",
    ")"
   ]
  },
  {
   "cell_type": "markdown",
   "id": "71b96eb0",
   "metadata": {},
   "source": [
    "## Set Seed\n",
    "\n",
    "Some algorithms used in model training require generation of pseudo-random numbers. Setting the seed from which these are generated ensures reproducibility."
   ]
  },
  {
   "cell_type": "code",
   "execution_count": null,
   "id": "66cc2485",
   "metadata": {
    "scrolled": false
   },
   "outputs": [],
   "source": [
    "seed = cfg.SOLVER.SEED\n",
    "# seed_everything in pytorch_lightning did not set torch.backends.cudnn\n",
    "set_seed(seed)"
   ]
  },
  {
   "cell_type": "markdown",
   "id": "92f9c271",
   "metadata": {},
   "source": [
    "## Setup Model\n",
    "\n",
    "Here, we use the previously defined configuration and dataset to set up the model we will subsequently train."
   ]
  },
  {
   "cell_type": "code",
   "execution_count": null,
   "id": "987bea6a",
   "metadata": {},
   "outputs": [],
   "source": [
    "%time model, train_params = get_model(cfg, dataset, num_channels)"
   ]
  },
  {
   "cell_type": "markdown",
   "id": "7afdb064",
   "metadata": {},
   "source": [
    "Output reports on data file use."
   ]
  },
  {
   "cell_type": "markdown",
   "id": "d948cfa7",
   "metadata": {},
   "source": [
    "## Setup Logger\n",
    "\n",
    "A logger is used to store output generated during and after model training. This information can be used to assess the effectiveness of the training and to identify problems."
   ]
  },
  {
   "cell_type": "code",
   "execution_count": null,
   "id": "9b556269",
   "metadata": {},
   "outputs": [],
   "source": [
    "logger, results, checkpoint_callback, test_csv_file = setup_logger(\n",
    "    train_params, cfg.OUTPUT.DIR, cfg.DAN.METHOD, seed\n",
    ")"
   ]
  },
  {
   "cell_type": "markdown",
   "id": "ea2ce15d",
   "metadata": {},
   "source": [
    "## Setup Trainer\n",
    "\n",
    "A trainer object is used to determine and store model parameters. Here, one is configured with information on how a model should be trained, and what hardware will be used."
   ]
  },
  {
   "cell_type": "code",
   "execution_count": null,
   "id": "e5794cdd",
   "metadata": {},
   "outputs": [],
   "source": [
    "trainer = pl.Trainer(\n",
    "    progress_bar_refresh_rate=cfg.OUTPUT.PB_FRESH,  # in steps\n",
    "    min_epochs=cfg.SOLVER.MIN_EPOCHS,\n",
    "    max_epochs=cfg.SOLVER.MAX_EPOCHS,\n",
    "    callbacks=[checkpoint_callback],\n",
    "    logger=False,\n",
    "    gpus=gpus)"
   ]
  },
  {
   "cell_type": "markdown",
   "id": "19f5a1bd",
   "metadata": {},
   "source": [
    "Output reports on available GPU and TPU resources."
   ]
  },
  {
   "cell_type": "markdown",
   "id": "a6e646cf",
   "metadata": {},
   "source": [
    "## Train Model\n",
    "\n",
    "Optimize model parameters using the trainer."
   ]
  },
  {
   "cell_type": "code",
   "execution_count": null,
   "id": "5b082670",
   "metadata": {},
   "outputs": [],
   "source": [
    "%time trainer.fit(model)\n",
    "results.update(\n",
    "    is_validation=True, method_name=cfg.DAN.METHOD, seed=seed, metric_values=trainer.callback_metrics,\n",
    ")"
   ]
  },
  {
   "cell_type": "markdown",
   "id": "c311a3ac",
   "metadata": {},
   "source": [
    "## Test Optimized Model\n",
    "\n",
    "Check performance of model optmized with training data against test data which was not used in training."
   ]
  },
  {
   "cell_type": "code",
   "execution_count": null,
   "id": "9d49f221",
   "metadata": {},
   "outputs": [],
   "source": [
    "# test scores\n",
    "%time trainer.test()\n",
    "results.update(\n",
    "    is_validation=False, method_name=cfg.DAN.METHOD, seed=seed, metric_values=trainer.callback_metrics,\n",
    ")\n",
    "results.print_scores(cfg.DAN.METHOD)"
   ]
  },
  {
   "cell_type": "markdown",
   "id": "cdc6b6a1",
   "metadata": {},
   "source": [
    "Outputs are defined as:\n",
    "\n",
    "* 'Te_domain_acc': Accuracy on classifying the domain (source or target) from which data came.\n",
    "* 'Te_source_acc': Accuracy on test data drawn from the source dataset.\n",
    "* 'Te_target_acc': Accuracy on test data drawn from the target dataset.\n",
    "* 'test_loss': Loss function value on the test data."
   ]
  },
  {
   "cell_type": "markdown",
   "id": "837db653",
   "metadata": {},
   "source": [
    "## Store Log"
   ]
  },
  {
   "cell_type": "code",
   "execution_count": null,
   "id": "eeed4434",
   "metadata": {},
   "outputs": [],
   "source": [
    "results.to_csv(test_csv_file)"
   ]
  }
 ],
 "metadata": {
  "kernelspec": {
   "display_name": "Python 3",
   "language": "python",
   "name": "python3"
  },
  "language_info": {
   "codemirror_mode": {
    "name": "ipython",
    "version": 3
   },
   "file_extension": ".py",
   "mimetype": "text/x-python",
   "name": "python",
   "nbconvert_exporter": "python",
   "pygments_lexer": "ipython3",
   "version": "3.7.10"
  }
 },
 "nbformat": 4,
 "nbformat_minor": 5
}
